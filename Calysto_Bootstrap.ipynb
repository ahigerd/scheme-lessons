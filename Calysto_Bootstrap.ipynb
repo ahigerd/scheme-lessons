{
  "nbformat": 4,
  "nbformat_minor": 0,
  "metadata": {
    "kernelspec": {
      "display_name": "Calysto Scheme (Python)",
      "language": "scheme",
      "name": "calysto_scheme"
    },
    "language_info": {
      "codemirror_mode": {
        "name": "scheme"
      },
      "mimetype": "text/x-scheme",
      "name": "scheme",
      "pygments_lexer": "scheme"
    },
    "colab": {
      "name": "Calysto_Bootstrap.ipynb",
      "provenance": [],
      "include_colab_link": true
    }
  },
  "cells": [
    {
      "cell_type": "markdown",
      "metadata": {
        "id": "view-in-github",
        "colab_type": "text"
      },
      "source": [
        "<a href=\"https://colab.research.google.com/github/ahigerd/scheme-lessons/blob/master/Calysto_Bootstrap.ipynb\" target=\"_parent\"><img src=\"https://colab.research.google.com/assets/colab-badge.svg\" alt=\"Open In Colab\"/></a>"
      ]
    },
    {
      "cell_type": "code",
      "metadata": {
        "id": "0uDbVUswWC0f",
        "colab_type": "code",
        "colab": {
          "base_uri": "https://localhost:8080/",
          "height": 737
        },
        "outputId": "b77a2705-3e0e-4cc6-e89e-7fad2e5ecf82"
      },
      "source": [
        "!pip3 install --upgrade calysto-scheme --user\n",
        "!python3 -m calysto_scheme install --user"
      ],
      "execution_count": null,
      "outputs": [
        {
          "output_type": "stream",
          "text": [
            "Collecting calysto-scheme\n",
            "\u001b[?25l  Downloading https://files.pythonhosted.org/packages/e3/fe/a899c9f10b1b78ab6587a5692569f88727584ebeecd4bc177691823464cd/calysto_scheme-1.4.6-py2.py3-none-any.whl (313kB)\n",
            "\u001b[K     |████████████████████████████████| 317kB 4.4MB/s \n",
            "\u001b[?25hCollecting metakernel\n",
            "\u001b[?25l  Downloading https://files.pythonhosted.org/packages/f6/14/f0020ab2b2861593e94a62a03e3c370ad740f51f12f1681bbdf8c27aa01d/metakernel-0.24.4-py2.py3-none-any.whl (208kB)\n",
            "\u001b[K     |████████████████████████████████| 215kB 12.5MB/s \n",
            "\u001b[?25hCollecting yasi\n",
            "  Downloading https://files.pythonhosted.org/packages/3a/58/e369cc04c658f6fbf53de6f05163fc6adbb16694ff7ae56886875fe30c07/yasi-2.1.2.tar.gz\n",
            "Requirement already satisfied, skipping upgrade: pexpect>=4.2 in /usr/local/lib/python3.6/dist-packages (from metakernel->calysto-scheme) (4.8.0)\n",
            "Requirement already satisfied, skipping upgrade: ipykernel in /usr/local/lib/python3.6/dist-packages (from metakernel->calysto-scheme) (4.10.1)\n",
            "Collecting colorama\n",
            "  Downloading https://files.pythonhosted.org/packages/c9/dc/45cdef1b4d119eb96316b3117e6d5708a08029992b2fee2c143c7a0a5cc5/colorama-0.4.3-py2.py3-none-any.whl\n",
            "Requirement already satisfied, skipping upgrade: ptyprocess>=0.5 in /usr/local/lib/python3.6/dist-packages (from pexpect>=4.2->metakernel->calysto-scheme) (0.6.0)\n",
            "Requirement already satisfied, skipping upgrade: tornado>=4.0 in /usr/local/lib/python3.6/dist-packages (from ipykernel->metakernel->calysto-scheme) (4.5.3)\n",
            "Requirement already satisfied, skipping upgrade: ipython>=4.0.0 in /usr/local/lib/python3.6/dist-packages (from ipykernel->metakernel->calysto-scheme) (5.5.0)\n",
            "Requirement already satisfied, skipping upgrade: traitlets>=4.1.0 in /usr/local/lib/python3.6/dist-packages (from ipykernel->metakernel->calysto-scheme) (4.3.3)\n",
            "Requirement already satisfied, skipping upgrade: jupyter-client in /usr/local/lib/python3.6/dist-packages (from ipykernel->metakernel->calysto-scheme) (5.3.4)\n",
            "Requirement already satisfied, skipping upgrade: simplegeneric>0.8 in /usr/local/lib/python3.6/dist-packages (from ipython>=4.0.0->ipykernel->metakernel->calysto-scheme) (0.8.1)\n",
            "Requirement already satisfied, skipping upgrade: decorator in /usr/local/lib/python3.6/dist-packages (from ipython>=4.0.0->ipykernel->metakernel->calysto-scheme) (4.4.2)\n",
            "Requirement already satisfied, skipping upgrade: pickleshare in /usr/local/lib/python3.6/dist-packages (from ipython>=4.0.0->ipykernel->metakernel->calysto-scheme) (0.7.5)\n",
            "Requirement already satisfied, skipping upgrade: setuptools>=18.5 in /usr/local/lib/python3.6/dist-packages (from ipython>=4.0.0->ipykernel->metakernel->calysto-scheme) (47.3.1)\n",
            "Requirement already satisfied, skipping upgrade: prompt-toolkit<2.0.0,>=1.0.4 in /usr/local/lib/python3.6/dist-packages (from ipython>=4.0.0->ipykernel->metakernel->calysto-scheme) (1.0.18)\n",
            "Requirement already satisfied, skipping upgrade: pygments in /usr/local/lib/python3.6/dist-packages (from ipython>=4.0.0->ipykernel->metakernel->calysto-scheme) (2.1.3)\n",
            "Requirement already satisfied, skipping upgrade: six in /usr/local/lib/python3.6/dist-packages (from traitlets>=4.1.0->ipykernel->metakernel->calysto-scheme) (1.12.0)\n",
            "Requirement already satisfied, skipping upgrade: ipython-genutils in /usr/local/lib/python3.6/dist-packages (from traitlets>=4.1.0->ipykernel->metakernel->calysto-scheme) (0.2.0)\n",
            "Requirement already satisfied, skipping upgrade: pyzmq>=13 in /usr/local/lib/python3.6/dist-packages (from jupyter-client->ipykernel->metakernel->calysto-scheme) (19.0.1)\n",
            "Requirement already satisfied, skipping upgrade: jupyter-core>=4.6.0 in /usr/local/lib/python3.6/dist-packages (from jupyter-client->ipykernel->metakernel->calysto-scheme) (4.6.3)\n",
            "Requirement already satisfied, skipping upgrade: python-dateutil>=2.1 in /usr/local/lib/python3.6/dist-packages (from jupyter-client->ipykernel->metakernel->calysto-scheme) (2.8.1)\n",
            "Requirement already satisfied, skipping upgrade: wcwidth in /usr/local/lib/python3.6/dist-packages (from prompt-toolkit<2.0.0,>=1.0.4->ipython>=4.0.0->ipykernel->metakernel->calysto-scheme) (0.2.5)\n",
            "Building wheels for collected packages: yasi\n",
            "  Building wheel for yasi (setup.py) ... \u001b[?25l\u001b[?25hdone\n",
            "  Created wheel for yasi: filename=yasi-2.1.2-cp36-none-any.whl size=20687 sha256=ec80beff9c4e2dceb048a9cfa99f270191732c75afa99f331d871e5a6d071917\n",
            "  Stored in directory: /root/.cache/pip/wheels/61/fd/0b/8cb55b23a37b324c6e713804eaf594f9abb375d1eaf6dd4931\n",
            "Successfully built yasi\n",
            "Installing collected packages: metakernel, colorama, yasi, calysto-scheme\n",
            "\u001b[33m  WARNING: The script yasi is installed in '/root/.local/bin' which is not on PATH.\n",
            "  Consider adding this directory to PATH or, if you prefer to suppress this warning, use --no-warn-script-location.\u001b[0m\n",
            "Successfully installed calysto-scheme-1.4.6 colorama-0.4.3 metakernel-0.24.4 yasi-2.1.2\n",
            "[InstallKernelSpec] Removing existing kernelspec in /root/.local/share/jupyter/kernels/calysto_scheme\n",
            "[InstallKernelSpec] Installed kernelspec calysto_scheme in /root/.local/share/jupyter/kernels/calysto_scheme\n"
          ],
          "name": "stdout"
        }
      ]
    },
    {
      "cell_type": "code",
      "metadata": {
        "id": "WS2cLnq_XIVa",
        "colab_type": "code",
        "colab": {
          "base_uri": "https://localhost:8080/",
          "height": 35
        },
        "outputId": "a335ed7d-ed0c-4c72-de95-9190ea139fe0"
      },
      "source": [
        "(+ 1 1)"
      ],
      "execution_count": null,
      "outputs": [
        {
          "output_type": "execute_result",
          "data": {
            "text/plain": [
              "2"
            ]
          },
          "metadata": {
            "tags": []
          },
          "execution_count": 1
        }
      ]
    },
    {
      "cell_type": "code",
      "metadata": {
        "id": "ZQOhJyN6XJRr",
        "colab_type": "code",
        "colab": {}
      },
      "source": [
        ""
      ],
      "execution_count": null,
      "outputs": []
    }
  ]
}